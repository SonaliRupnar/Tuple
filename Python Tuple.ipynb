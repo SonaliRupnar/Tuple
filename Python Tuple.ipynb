{
 "cells": [
  {
   "cell_type": "markdown",
   "id": "b5fabd6b",
   "metadata": {
    "id": "b5fabd6b"
   },
   "source": [
    "<a href=\"https://www.viharatech.com\"><img src=\"https://miro.medium.com/v2/resize:fit:828/format:webp/1*on2Bpj6A5gfd-CzaFOAZRA.jpeg\"></a>\n",
    "\n",
    "\n",
    "- `Welcome to our interactive learning session! In this Jupyter notebook, you'll find a series of questions related to Python Tuple Concept. To maximize your learning, please write Python code in the cell below each question and execute it. This hands-on practice will help reinforce your understanding of the concepts. Feel free to reach out if you have any questions or need assistance. Happy coding! 💻🐍 `"
   ]
  },
  {
   "cell_type": "markdown",
   "id": "db689fc2",
   "metadata": {
    "id": "db689fc2"
   },
   "source": [
    "### Question 1: Write a Python program to create an empty tuple.\n",
    "\n",
    "\n",
    "- `sample input : `\n",
    "    - `var = (10,11,15,20)`\n",
    "- `sample output :`\n",
    "    - `result :()`"
   ]
  },
  {
   "cell_type": "code",
   "execution_count": 16,
   "id": "c9ce9180",
   "metadata": {
    "executionInfo": {
     "elapsed": 408,
     "status": "ok",
     "timestamp": 1697623263778,
     "user": {
      "displayName": "sai korlakunta",
      "userId": "02275484983742224373"
     },
     "user_tz": -330
    },
    "id": "c9ce9180"
   },
   "outputs": [
    {
     "name": "stdout",
     "output_type": "stream",
     "text": [
      "()\n"
     ]
    }
   ],
   "source": [
    "# Please write The solution Here for above question 1:\n",
    "var = (10,11,15,20)\n",
    "a = list(var)\n",
    "a.clear()\n",
    "var = tuple(a)\n",
    "print(str(var))\n"
   ]
  },
  {
   "cell_type": "markdown",
   "id": "46f069cc",
   "metadata": {
    "id": "46f069cc"
   },
   "source": [
    "### Question 2: Write a Python program to access the elements of a tuple.\n",
    "\n",
    "- `sample input : `\n",
    "    - `var = (10,15,20,40,55)`\n",
    "- `sample output :`\n",
    "    - `result : Access using Techniques available ex: 20 can be accessed with there memory allocation `"
   ]
  },
  {
   "cell_type": "code",
   "execution_count": 2,
   "id": "2cde3dcc",
   "metadata": {
    "executionInfo": {
     "elapsed": 591,
     "status": "ok",
     "timestamp": 1697623341588,
     "user": {
      "displayName": "sai korlakunta",
      "userId": "02275484983742224373"
     },
     "user_tz": -330
    },
    "id": "2cde3dcc"
   },
   "outputs": [],
   "source": [
    "# Please write The solution Here for above question 2:\n",
    "\n",
    "\n"
   ]
  },
  {
   "cell_type": "markdown",
   "id": "0f3a2ef5",
   "metadata": {
    "id": "0f3a2ef5"
   },
   "source": [
    "### Question 3: Write a Python program to concatenate two tuples.\n",
    "\n",
    "Sample Input 1:\n",
    "\n",
    "    Tuple 1: (1, 2, 3)\n",
    "    Tuple 2: (4, 5, 6)\n",
    "\n",
    "Sample Output 1:\n",
    "\n",
    "    Concatenated Tuple: (1, 2, 3, 4, 5, 6)\n",
    "\n",
    "Sample Input 2:\n",
    "\n",
    "    Tuple 1: (\"apple\", \"banana\")\n",
    "    Tuple 2: (\"cherry\", \"date\")\n",
    "\n",
    "Sample Output 2:\n",
    "\n",
    "    Concatenated Tuple: (\"apple\", \"banana\", \"cherry\", \"date\")"
   ]
  },
  {
   "cell_type": "code",
   "execution_count": 18,
   "id": "74b9f01a",
   "metadata": {
    "id": "74b9f01a"
   },
   "outputs": [
    {
     "name": "stdout",
     "output_type": "stream",
     "text": [
      "(1, 2, 3, 4, 5, 6)\n"
     ]
    }
   ],
   "source": [
    "# Please write The solution Here for above question 3:\n",
    "a = (1, 2, 3)\n",
    "b = (4, 5, 6)\n",
    "res = a + b\n",
    "print( str(res))\n"
   ]
  },
  {
   "cell_type": "markdown",
   "id": "98e0fc60",
   "metadata": {
    "id": "98e0fc60"
   },
   "source": [
    "### Question 4: Write a Python program to access the first and last elements of a tuple.\n",
    "\n",
    "- `Sample Input: (1, 2, 3, 4, 5)`\n",
    "\n",
    "\n",
    "- `Sample Output: First Element: 1, Last Element: 5`"
   ]
  },
  {
   "cell_type": "code",
   "execution_count": 27,
   "id": "82-GiJtUQqZA",
   "metadata": {
    "id": "82-GiJtUQqZA"
   },
   "outputs": [
    {
     "name": "stdout",
     "output_type": "stream",
     "text": [
      " Frist Element : 1 Last Element :5\n"
     ]
    }
   ],
   "source": [
    "# lease write The solution Here for above question 4:\n",
    "\n",
    "a = (1, 2, 3, 4, 5)\n",
    "res1 = (a[0])\n",
    "res2 = (a[4])\n",
    "print(\" Frist Element : \" + str(res1) , \"Last Element :\" + str(res2))\n",
    "\n"
   ]
  },
  {
   "cell_type": "markdown",
   "id": "17eb44eb",
   "metadata": {
    "id": "17eb44eb"
   },
   "source": [
    "### Question 5: Write a Python program to reverse a tuple.\n",
    "\n",
    "- `Sample Input: (5, 4, 3, 2, 1)`\n",
    "- `Sample Output: (1, 2, 3, 4, 5)`"
   ]
  },
  {
   "cell_type": "code",
   "execution_count": 28,
   "id": "29f0e87e",
   "metadata": {
    "id": "29f0e87e"
   },
   "outputs": [
    {
     "name": "stdout",
     "output_type": "stream",
     "text": [
      "(1, 2, 3, 4, 5)\n"
     ]
    }
   ],
   "source": [
    "# Please write The solution Here for above question 5:\n",
    "a= (5,4,3,2,1)\n",
    "b= reversed(a)\n",
    "print(tuple(b))\n"
   ]
  },
  {
   "cell_type": "markdown",
   "id": "fac17884",
   "metadata": {
    "id": "fac17884"
   },
   "source": [
    "### Question 6: Write a Python program to find the maximum and minimum elements of a tuple.\n",
    "\n",
    "- `Sample Input: (15, 25, 10, 30, 20)`\n",
    "- `Sample Output: Maximum: 30, Minimum: 10`"
   ]
  },
  {
   "cell_type": "code",
   "execution_count": 34,
   "id": "f4b33095",
   "metadata": {
    "id": "f4b33095"
   },
   "outputs": [
    {
     "name": "stdout",
     "output_type": "stream",
     "text": [
      "Maximum:30 Minimum:10\n"
     ]
    }
   ],
   "source": [
    "# Please write The solution Here for above question 6:\n",
    "a=(15, 25, 10, 30, 20)\n",
    "b=max(a)\n",
    "c=min(a)\n",
    "print(\"Maximum:\" +str(b),\"Minimum:\" +str(c))\n",
    "\n",
    "\n",
    "\n"
   ]
  },
  {
   "cell_type": "markdown",
   "id": "2170d6f4",
   "metadata": {
    "id": "2170d6f4"
   },
   "source": [
    "### Question 7: Write a Python program to remove an element from a tuple.\n",
    "\n",
    "- `Sample Input: (1, 2, 3, 4, 5), 3`\n",
    "- `Sample Output: (1, 2, 4, 5)`"
   ]
  },
  {
   "cell_type": "code",
   "execution_count": 51,
   "id": "f35de8b3",
   "metadata": {
    "id": "f35de8b3"
   },
   "outputs": [
    {
     "name": "stdout",
     "output_type": "stream",
     "text": [
      "(1, 3, 5)\n"
     ]
    }
   ],
   "source": [
    "# Please write The solution Here for above question 7:\n",
    "a = (1,2,3,4,5)\n",
    "print(a[::2])\n",
    "\n",
    " \n",
    "\n",
    "\n"
   ]
  },
  {
   "cell_type": "markdown",
   "id": "f349bdb7",
   "metadata": {
    "id": "f349bdb7"
   },
   "source": [
    "### Question 8: Write a Python program to convert a list of tuples into a dictionary.\n",
    "\n",
    "- `Sample Input: [(1, \"one\"), (2, \"two\"), (3, \"three\")]`\n",
    "- `Sample Output: {1: 'one', 2: 'two', 3: 'three'}`"
   ]
  },
  {
   "cell_type": "code",
   "execution_count": 53,
   "id": "a1b4c4e6",
   "metadata": {
    "id": "a1b4c4e6"
   },
   "outputs": [
    {
     "name": "stdout",
     "output_type": "stream",
     "text": [
      "{1: 'one', 2: 'two', 3: 'three'}\n"
     ]
    }
   ],
   "source": [
    "# Please write The solution Here for above question 8:\n",
    "a=[(1,\"one\"),(2,\"two\"),(3,\"three\")]\n",
    "b=dict(a)\n",
    "print(b)\n",
    "\n"
   ]
  },
  {
   "cell_type": "markdown",
   "id": "d2770696",
   "metadata": {
    "id": "d2770696"
   },
   "source": [
    "### Question 9: Write a Python program to find the intersection of two tuples.\n",
    "\n",
    "- `Sample Input: (1, 2, 3, 4, 5), (4, 5, 6, 7, 8)`\n",
    "- `Sample Output: (4, 5)`"
   ]
  },
  {
   "cell_type": "code",
   "execution_count": 61,
   "id": "7fdc2e9c",
   "metadata": {
    "id": "7fdc2e9c"
   },
   "outputs": [
    {
     "name": "stdout",
     "output_type": "stream",
     "text": [
      "[4, 5]\n"
     ]
    }
   ],
   "source": [
    "# Please write The solution Here for above question 9:\n",
    "def intersection_list(a,b):  \n",
    "   return list(set(a) & set(b))  \n",
    "  \n",
    "a = (1, 2, 3, 4, 5)\n",
    "b = (4, 5, 6, 7, 8)\n",
    "  \n",
    "print(intersection_list(a,b))  "
   ]
  },
  {
   "cell_type": "markdown",
   "id": "5c9a3f09",
   "metadata": {
    "id": "5c9a3f09"
   },
   "source": [
    "### Question 10: Write a Python program to sort a tuple of tuples by the second element of each tuple.\n",
    "\n",
    "- `Sample Input: ((1, 5), (3, 2), (2, 7), (4, 6))`\n",
    "- `Sample Output: ((3, 2), (1, 5), (4, 6), (2, 7)`"
   ]
  },
  {
   "cell_type": "code",
   "execution_count": null,
   "id": "57c0c30e",
   "metadata": {
    "id": "57c0c30e"
   },
   "outputs": [],
   "source": [
    "# Please write The solution Here for above question 10:\n",
    "\n",
    "\n"
   ]
  }
 ],
 "metadata": {
  "colab": {
   "provenance": []
  },
  "kernelspec": {
   "display_name": "Python 3 (ipykernel)",
   "language": "python",
   "name": "python3"
  },
  "language_info": {
   "codemirror_mode": {
    "name": "ipython",
    "version": 3
   },
   "file_extension": ".py",
   "mimetype": "text/x-python",
   "name": "python",
   "nbconvert_exporter": "python",
   "pygments_lexer": "ipython3",
   "version": "3.11.7"
  }
 },
 "nbformat": 4,
 "nbformat_minor": 5
}
